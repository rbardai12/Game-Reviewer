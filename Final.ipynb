{
 "cells": [
  {
   "cell_type": "code",
   "execution_count": 2,
   "metadata": {
    "vscode": {
     "languageId": "plaintext"
    }
   },
   "outputs": [],
   "source": [
    "# Import the necessary libraries\n",
    "from datasets import load_dataset, ClassLabel\n",
    "from transformers import (\n",
    "    AutoTokenizer,\n",
    "    AutoModelForSequenceClassification,\n",
    "    TrainingArguments,\n",
    "    Trainer,\n",
    "    AutoConfig,\n",
    "    pipeline\n",
    ")\n",
    "import numpy as np\n",
    "from evaluate import load as load_metric"
   ]
  },
  {
   "cell_type": "code",
   "execution_count": 3,
   "metadata": {},
   "outputs": [],
   "source": [
    "### LOAD AND FINE-TUNE THE ROBERTa MODEL ###"
   ]
  },
  {
   "cell_type": "code",
   "execution_count": 4,
   "metadata": {},
   "outputs": [],
   "source": [
    "# 1. Load CSVs (train.csv and validation.csv)\n",
    "dataset = load_dataset(\n",
    "    'csv',\n",
    "    data_files={'train': 'startrain.csv', 'validation': 'starval.csv'},\n",
    "    column_names=['text', 'label'],\n",
    "    delimiter=','\n",
    ")"
   ]
  },
  {
   "cell_type": "code",
   "execution_count": 5,
   "metadata": {},
   "outputs": [
    {
     "data": {
      "application/vnd.jupyter.widget-view+json": {
       "model_id": "8f52f28579dc4569920e87720705c561",
       "version_major": 2,
       "version_minor": 0
      },
      "text/plain": [
       "Map:   0%|          | 0/51 [00:00<?, ? examples/s]"
      ]
     },
     "metadata": {},
     "output_type": "display_data"
    },
    {
     "name": "stderr",
     "output_type": "stream",
     "text": [
      "Some weights of RobertaForSequenceClassification were not initialized from the model checkpoint at cardiffnlp/twitter-roberta-base-sentiment and are newly initialized because the shapes did not match:\n",
      "- classifier.out_proj.weight: found shape torch.Size([3, 768]) in the checkpoint and torch.Size([5, 768]) in the model instantiated\n",
      "- classifier.out_proj.bias: found shape torch.Size([3]) in the checkpoint and torch.Size([5]) in the model instantiated\n",
      "You should probably TRAIN this model on a down-stream task to be able to use it for predictions and inference.\n"
     ]
    }
   ],
   "source": [
    "# 2. Load in the dataset, model, and the task from Hugging Face\n",
    "dataset = dataset.class_encode_column('label')\n",
    "# Load the model and tokenizer\n",
    "MODEL_ID = \"cardiffnlp/twitter-roberta-base-sentiment\"\n",
    "tokenizer = AutoTokenizer.from_pretrained(MODEL_ID)\n",
    "\n",
    "# Tokenize the dataset\n",
    "def tokenize_batch(batch):\n",
    "    return tokenizer(\n",
    "        batch[\"text\"],\n",
    "        padding=\"max_length\",\n",
    "        truncation=True,\n",
    "        max_length=128,\n",
    "    )\n",
    "encoded = dataset.map(\n",
    "    tokenize_batch,\n",
    "    batched=True,\n",
    "    remove_columns=['text']\n",
    ")\n",
    "model = AutoModelForSequenceClassification.from_pretrained(\n",
    "    MODEL_ID,\n",
    "    num_labels=5,\n",
    "    ignore_mismatched_sizes=True     \n",
    ")"
   ]
  },
  {
   "cell_type": "code",
   "execution_count": 6,
   "metadata": {},
   "outputs": [],
   "source": [
    "# 3. Setup training arguments\n",
    "training_args = TrainingArguments(\n",
    "    output_dir='./finetuned-stars',\n",
    "    do_train=True,\n",
    "    do_eval=True,\n",
    "    eval_steps=200,\n",
    "    save_steps=200,\n",
    "    save_total_limit=2,\n",
    "    learning_rate=2e-5,\n",
    "    per_device_train_batch_size=16,\n",
    "    per_device_eval_batch_size=32,\n",
    "    num_train_epochs=3,\n",
    "    weight_decay=0.01,\n",
    "    logging_dir='./logs',\n",
    "    logging_steps=50,\n",
    ")"
   ]
  },
  {
   "cell_type": "code",
   "execution_count": 7,
   "metadata": {},
   "outputs": [],
   "source": [
    "# 4. Load in all the epoch computation metrics from Hugging Face\n",
    "accuracy_metric = load_metric('accuracy')\n",
    "def compute_metrics(eval_pred):\n",
    "    logits, labels = eval_pred\n",
    "    preds = np.argmax(logits, axis=-1)\n",
    "    return accuracy_metric.compute(predictions=preds, references=labels)"
   ]
  },
  {
   "cell_type": "code",
   "execution_count": 8,
   "metadata": {},
   "outputs": [],
   "source": [
    "# 5. Initialize the Trainer and train the model and evaluate using validation set\n",
    "trainer = Trainer(\n",
    "    model=model,\n",
    "    args=training_args,\n",
    "    train_dataset=encoded['train'],\n",
    "    eval_dataset=encoded['validation'],\n",
    "    compute_metrics=compute_metrics\n",
    ")\n"
   ]
  },
  {
   "cell_type": "code",
   "execution_count": 12,
   "metadata": {},
   "outputs": [
    {
     "name": "stderr",
     "output_type": "stream",
     "text": [
      "/Users/rahimbardai/Desktop/Ling/.venv/lib/python3.13/site-packages/torch/utils/data/dataloader.py:683: UserWarning: 'pin_memory' argument is set as true but not supported on MPS now, then device pinned memory won't be used.\n",
      "  warnings.warn(warn_msg)\n"
     ]
    },
    {
     "data": {
      "text/html": [
       "\n",
       "    <div>\n",
       "      \n",
       "      <progress value='189' max='189' style='width:300px; height:20px; vertical-align: middle;'></progress>\n",
       "      [189/189 02:02, Epoch 3/3]\n",
       "    </div>\n",
       "    <table border=\"1\" class=\"dataframe\">\n",
       "  <thead>\n",
       " <tr style=\"text-align: left;\">\n",
       "      <th>Step</th>\n",
       "      <th>Training Loss</th>\n",
       "    </tr>\n",
       "  </thead>\n",
       "  <tbody>\n",
       "    <tr>\n",
       "      <td>50</td>\n",
       "      <td>0.004800</td>\n",
       "    </tr>\n",
       "    <tr>\n",
       "      <td>100</td>\n",
       "      <td>0.003300</td>\n",
       "    </tr>\n",
       "    <tr>\n",
       "      <td>150</td>\n",
       "      <td>0.002700</td>\n",
       "    </tr>\n",
       "  </tbody>\n",
       "</table><p>"
      ],
      "text/plain": [
       "<IPython.core.display.HTML object>"
      ]
     },
     "metadata": {},
     "output_type": "display_data"
    },
    {
     "name": "stderr",
     "output_type": "stream",
     "text": [
      "/Users/rahimbardai/Desktop/Ling/.venv/lib/python3.13/site-packages/torch/utils/data/dataloader.py:683: UserWarning: 'pin_memory' argument is set as true but not supported on MPS now, then device pinned memory won't be used.\n",
      "  warnings.warn(warn_msg)\n"
     ]
    },
    {
     "data": {
      "text/html": [
       "\n",
       "    <div>\n",
       "      \n",
       "      <progress value='2' max='2' style='width:300px; height:20px; vertical-align: middle;'></progress>\n",
       "      [2/2 00:00]\n",
       "    </div>\n",
       "    "
      ],
      "text/plain": [
       "<IPython.core.display.HTML object>"
      ]
     },
     "metadata": {},
     "output_type": "display_data"
    },
    {
     "name": "stdout",
     "output_type": "stream",
     "text": [
      "{'eval_loss': 0.001426116330549121, 'eval_accuracy': 0.9803921568627451, 'eval_runtime': 0.7742, 'eval_samples_per_second': 65.871, 'eval_steps_per_second': 2.583, 'epoch': 3.0}\n"
     ]
    }
   ],
   "source": [
    "# 6. Train the model\n",
    "trainer.train()\n",
    "\n",
    "# 7. Save the fine tuned model\n",
    "trainer.save_model('roberta-stars-finetuned')\n",
    "tokenizer.save_pretrained('roberta-stars-finetuned')\n",
    "\n",
    "val_metrics = trainer.evaluate()  \n",
    "print(val_metrics)\n"
   ]
  },
  {
   "cell_type": "code",
   "execution_count": 10,
   "metadata": {},
   "outputs": [],
   "source": [
    "### RUN SAMPLE TESTS ###\n"
   ]
  },
  {
   "cell_type": "code",
   "execution_count": 11,
   "metadata": {},
   "outputs": [
    {
     "name": "stderr",
     "output_type": "stream",
     "text": [
      "Device set to use mps:0\n"
     ]
    },
    {
     "name": "stdout",
     "output_type": "stream",
     "text": [
      "Example: Absolutely phenomenal, I love it!\n",
      "Predicted Star Val: 5★, Confidence: 0.995248019695282\n",
      "\n",
      "Example: It's okay, nothing special. But I like it.\n",
      "Predicted Star Val: 3★, Confidence: 0.794010579586029\n",
      "\n",
      "Example: It's okay, nothing special.\n",
      "Predicted Star Val: 3★, Confidence: 0.9837807416915894\n",
      "\n",
      "Example: I don't know how I feel about this. Its bad but not terrible.\n",
      "Predicted Star Val: 2★, Confidence: 0.7645917534828186\n",
      "\n",
      "Example: Terrible game\n",
      "Predicted Star Val: 1★, Confidence: 0.9931008815765381\n",
      "\n"
     ]
    }
   ],
   "source": [
    "# 1. Load in the fine-tuned model and tokenizer and set up the labels\n",
    "config = AutoConfig.from_pretrained('roberta-stars-finetuned')\n",
    "config.id2label   = {\n",
    "    0: \"1★\", 1: \"2★\", 2: \"3★\", 3: \"4★\", 4: \"5★\"\n",
    "}\n",
    "config.label2id   = {v: k for k, v in config.id2label.items()}\n",
    "model = AutoModelForSequenceClassification.from_pretrained(\n",
    "    'roberta-stars-finetuned', config=config\n",
    ")\n",
    "tokenizer = AutoTokenizer.from_pretrained('roberta-stars-finetuned')\n",
    "\n",
    "# 2. Build a pipeline for star analyis\n",
    "star_pipe = pipeline(\n",
    "    \"sentiment-analysis\",   \n",
    "    model=model,\n",
    "    tokenizer=tokenizer\n",
    ")\n",
    "\n",
    "# 3. Write out tests \n",
    "examples = [\n",
    "    \"Absolutely phenomenal, I love it!\",\n",
    "    \"It's okay, nothing special. But I like it.\",\n",
    "    \"It's okay, nothing special.\",\n",
    "    \"I don't know how I feel about this. Its bad but not terrible.\",\n",
    "    \"Terrible game\",\n",
    "]\n",
    "for ex in examples:\n",
    "    out = star_pipe(ex)[0]\n",
    "    print(f\"Example: {ex}\")\n",
    "    print(f\"Predicted Star Val: {out['label']}, Confidence: {out['score']}\")\n",
    "    print()\n"
   ]
  },
  {
   "cell_type": "code",
   "execution_count": null,
   "metadata": {},
   "outputs": [],
   "source": []
  },
  {
   "cell_type": "code",
   "execution_count": null,
   "metadata": {},
   "outputs": [],
   "source": []
  }
 ],
 "metadata": {
  "kernelspec": {
   "display_name": "roberta-stars (python)",
   "language": "python",
   "name": "roberta-stars-env"
  },
  "language_info": {
   "codemirror_mode": {
    "name": "ipython",
    "version": 3
   },
   "file_extension": ".py",
   "mimetype": "text/x-python",
   "name": "python",
   "nbconvert_exporter": "python",
   "pygments_lexer": "ipython3",
   "version": "3.13.3"
  }
 },
 "nbformat": 4,
 "nbformat_minor": 4
}
